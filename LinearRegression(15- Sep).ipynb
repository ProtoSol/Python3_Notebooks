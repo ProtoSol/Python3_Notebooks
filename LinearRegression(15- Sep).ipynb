{
 "cells": [
  {
   "cell_type": "markdown",
   "id": "415f67d9",
   "metadata": {},
   "source": [
    "# Linear Regression and Classification"
   ]
  },
  {
   "cell_type": "code",
   "execution_count": 7,
   "id": "cf8b0eb4",
   "metadata": {},
   "outputs": [],
   "source": [
    "import pandas as pd\n",
    "import numpy as np\n",
    "import matplotlib.pyplot as plt"
   ]
  },
  {
   "cell_type": "markdown",
   "id": "f1adf074",
   "metadata": {},
   "source": [
    "Importing Necessary Libraries"
   ]
  },
  {
   "cell_type": "code",
   "execution_count": 4,
   "id": "b5b1d128",
   "metadata": {},
   "outputs": [],
   "source": [
    "from sklearn import linear_model\n",
    "df = pd.read_csv(\"C:/Users/DIT/Downloads/tips.csv\")"
   ]
  },
  {
   "cell_type": "code",
   "execution_count": 18,
   "id": "2bf1ff57",
   "metadata": {},
   "outputs": [
    {
     "name": "stdout",
     "output_type": "stream",
     "text": [
      "   total_bill   tip     sex smoker  day    time  size  payment\n",
      "0       16.99  1.01  Female     No  Sun  Dinner     2    15.98\n",
      "1       10.34  1.66    Male     No  Sun  Dinner     3     8.68\n",
      "2       21.01  3.50    Male     No  Sun  Dinner     3    17.51\n",
      "3       23.68  3.31    Male     No  Sun  Dinner     2    20.37\n",
      "4       24.59  3.61  Female     No  Sun  Dinner     4    20.98\n",
      "   total_bill   tip     sex smoker  day    time  size  payment\n",
      "0       16.99  1.01  Female     No  Sun  Dinner     2    15.98\n",
      "1       10.34  1.66    Male     No  Sun  Dinner     3     8.68\n",
      "2       21.01  3.50    Male     No  Sun  Dinner     3    17.51\n",
      "3       23.68  3.31    Male     No  Sun  Dinner     2    20.37\n",
      "4       24.59  3.61  Female     No  Sun  Dinner     4    20.98\n"
     ]
    }
   ],
   "source": [
    "print(df.head())\n",
    "df['payment'] = df['total_bill'] - df['tip']\n",
    "print(df.head())"
   ]
  },
  {
   "cell_type": "code",
   "execution_count": 19,
   "id": "748ce3d2",
   "metadata": {},
   "outputs": [
    {
     "data": {
      "text/plain": [
       "Text(0.5, 1.0, 'Payment VS Tip')"
      ]
     },
     "execution_count": 19,
     "metadata": {},
     "output_type": "execute_result"
    },
    {
     "data": {
      "image/png": "[encoded data removed]",
      "text/plain": [
       "<Figure size 640x480 with 1 Axes>"
      ]
     },
     "metadata": {},
     "output_type": "display_data"
    }
   ],
   "source": [
    "plt.scatter(df.payment, df.tip, color = 'Orange', marker=\"+\", )\n",
    "plt.xlabel(\"Payment\")\n",
    "plt.ylabel(\"Tip\")\n",
    "plt.title(\"Payment VS Tip\")"
   ]
  },
  {
   "cell_type": "code",
   "execution_count": 84,
   "id": "5a828afe",
   "metadata": {},
   "outputs": [
    {
     "data": {
      "text/html": [
       "<div>\n",
       "<style scoped>\n",
       "    .dataframe tbody tr th:only-of-type {\n",
       "        vertical-align: middle;\n",
       "    }\n",
       "\n",
       "    .dataframe tbody tr th {\n",
       "        vertical-align: top;\n",
       "    }\n",
       "\n",
       "    .dataframe thead th {\n",
       "        text-align: right;\n",
       "    }\n",
       "</style>\n",
       "<table border=\"1\" class=\"dataframe\">\n",
       "  <thead>\n",
       "    <tr style=\"text-align: right;\">\n",
       "      <th></th>\n",
       "      <th>total_bill</th>\n",
       "    </tr>\n",
       "  </thead>\n",
       "  <tbody>\n",
       "    <tr>\n",
       "      <th>0</th>\n",
       "      <td>16.99</td>\n",
       "    </tr>\n",
       "    <tr>\n",
       "      <th>1</th>\n",
       "      <td>10.34</td>\n",
       "    </tr>\n",
       "    <tr>\n",
       "      <th>2</th>\n",
       "      <td>21.01</td>\n",
       "    </tr>\n",
       "    <tr>\n",
       "      <th>3</th>\n",
       "      <td>23.68</td>\n",
       "    </tr>\n",
       "    <tr>\n",
       "      <th>4</th>\n",
       "      <td>24.59</td>\n",
       "    </tr>\n",
       "  </tbody>\n",
       "</table>\n",
       "</div>"
      ],
      "text/plain": [
       "   total_bill\n",
       "0       16.99\n",
       "1       10.34\n",
       "2       21.01\n",
       "3       23.68\n",
       "4       24.59"
      ]
     },
     "execution_count": 84,
     "metadata": {},
     "output_type": "execute_result"
    }
   ],
   "source": [
    "x = pd.DataFrame(df['total_bill'])\n",
    "y = pd.DataFrame(df['tip'])\n",
    "x.head()"
   ]
  },
  {
   "cell_type": "code",
   "execution_count": 85,
   "id": "59a3f698",
   "metadata": {},
   "outputs": [],
   "source": [
    "from sklearn.model_selection import train_test_split"
   ]
  },
  {
   "cell_type": "code",
   "execution_count": 91,
   "id": "37402ed4",
   "metadata": {},
   "outputs": [
    {
     "data": {
      "text/html": [
       "<div>\n",
       "<style scoped>\n",
       "    .dataframe tbody tr th:only-of-type {\n",
       "        vertical-align: middle;\n",
       "    }\n",
       "\n",
       "    .dataframe tbody tr th {\n",
       "        vertical-align: top;\n",
       "    }\n",
       "\n",
       "    .dataframe thead th {\n",
       "        text-align: right;\n",
       "    }\n",
       "</style>\n",
       "<table border=\"1\" class=\"dataframe\">\n",
       "  <thead>\n",
       "    <tr style=\"text-align: right;\">\n",
       "      <th></th>\n",
       "      <th>total_bill</th>\n",
       "    </tr>\n",
       "  </thead>\n",
       "  <tbody>\n",
       "    <tr>\n",
       "      <th>151</th>\n",
       "      <td>13.13</td>\n",
       "    </tr>\n",
       "    <tr>\n",
       "      <th>216</th>\n",
       "      <td>28.15</td>\n",
       "    </tr>\n",
       "    <tr>\n",
       "      <th>175</th>\n",
       "      <td>32.90</td>\n",
       "    </tr>\n",
       "    <tr>\n",
       "      <th>179</th>\n",
       "      <td>34.63</td>\n",
       "    </tr>\n",
       "    <tr>\n",
       "      <th>51</th>\n",
       "      <td>10.29</td>\n",
       "    </tr>\n",
       "    <tr>\n",
       "      <th>...</th>\n",
       "      <td>...</td>\n",
       "    </tr>\n",
       "    <tr>\n",
       "      <th>67</th>\n",
       "      <td>3.07</td>\n",
       "    </tr>\n",
       "    <tr>\n",
       "      <th>221</th>\n",
       "      <td>13.42</td>\n",
       "    </tr>\n",
       "    <tr>\n",
       "      <th>105</th>\n",
       "      <td>15.36</td>\n",
       "    </tr>\n",
       "    <tr>\n",
       "      <th>16</th>\n",
       "      <td>10.33</td>\n",
       "    </tr>\n",
       "    <tr>\n",
       "      <th>24</th>\n",
       "      <td>19.82</td>\n",
       "    </tr>\n",
       "  </tbody>\n",
       "</table>\n",
       "<p>195 rows × 1 columns</p>\n",
       "</div>"
      ],
      "text/plain": [
       "     total_bill\n",
       "151       13.13\n",
       "216       28.15\n",
       "175       32.90\n",
       "179       34.63\n",
       "51        10.29\n",
       "..          ...\n",
       "67         3.07\n",
       "221       13.42\n",
       "105       15.36\n",
       "16        10.33\n",
       "24        19.82\n",
       "\n",
       "[195 rows x 1 columns]"
      ]
     },
     "execution_count": 91,
     "metadata": {},
     "output_type": "execute_result"
    }
   ],
   "source": [
    "x_train, x_test, y_train, y_test = train_test_split(x, y, test_size = 0.2)\n",
    "x_train"
   ]
  },
  {
   "cell_type": "code",
   "execution_count": 92,
   "id": "8eca3999",
   "metadata": {},
   "outputs": [
    {
     "data": {
      "text/plain": [
       "LinearRegression()"
      ]
     },
     "execution_count": 92,
     "metadata": {},
     "output_type": "execute_result"
    }
   ],
   "source": [
    "reg = linear_model.LinearRegression()\n",
    "reg.fit(x_train, y_train)"
   ]
  },
  {
   "cell_type": "code",
   "execution_count": 93,
   "id": "55084e87",
   "metadata": {
    "scrolled": true
   },
   "outputs": [
    {
     "data": {
      "text/plain": [
       "array([[3.75874265],\n",
       "       [2.67151851],\n",
       "       [2.54939493],\n",
       "       [5.23611381],\n",
       "       [4.10241787],\n",
       "       [2.58289786],\n",
       "       [3.45613553],\n",
       "       [1.77450457],\n",
       "       [1.91067777],\n",
       "       [3.12434845],\n",
       "       [2.69853701],\n",
       "       [4.61576923],\n",
       "       [2.68340665],\n",
       "       [2.82930651],\n",
       "       [3.70794788],\n",
       "       [3.04437371],\n",
       "       [2.44564392],\n",
       "       [3.79332632],\n",
       "       [1.75613199],\n",
       "       [2.48130833],\n",
       "       [5.03941919],\n",
       "       [2.97736785],\n",
       "       [2.45104762],\n",
       "       [2.82714503],\n",
       "       [2.2327382 ],\n",
       "       [2.0803539 ],\n",
       "       [2.20247749],\n",
       "       [5.6413912 ],\n",
       "       [2.55804085],\n",
       "       [1.88582076],\n",
       "       [2.84551761],\n",
       "       [3.06814998],\n",
       "       [3.04005075],\n",
       "       [5.1950457 ],\n",
       "       [3.04653519],\n",
       "       [1.47513967],\n",
       "       [2.25867595],\n",
       "       [3.19891949],\n",
       "       [3.27673274],\n",
       "       [6.0769293 ],\n",
       "       [4.5606515 ],\n",
       "       [2.6358541 ],\n",
       "       [3.37508006],\n",
       "       [6.07044486],\n",
       "       [2.10629165],\n",
       "       [3.25619869],\n",
       "       [3.61608501],\n",
       "       [1.89122445],\n",
       "       [2.58073638]])"
      ]
     },
     "execution_count": 93,
     "metadata": {},
     "output_type": "execute_result"
    }
   ],
   "source": [
    "reg.predict(x_test)"
   ]
  },
  {
   "cell_type": "code",
   "execution_count": 94,
   "id": "e37a9b94",
   "metadata": {},
   "outputs": [
    {
     "data": {
      "text/plain": [
       "0.41912529152684896"
      ]
     },
     "execution_count": 94,
     "metadata": {},
     "output_type": "execute_result"
    }
   ],
   "source": [
    "reg.score(x_test, y_test)"
   ]
  },
  {
   "cell_type": "code",
   "execution_count": null,
   "id": "95e5b72f",
   "metadata": {},
   "outputs": [],
   "source": []
  }
 ],
 "metadata": {
  "kernelspec": {
   "display_name": "Python 3 (ipykernel)",
   "language": "python",
   "name": "python3"
  },
  "language_info": {
   "codemirror_mode": {
    "name": "ipython",
    "version": 3
   },
   "file_extension": ".py",
   "mimetype": "text/x-python",
   "name": "python",
   "nbconvert_exporter": "python",
   "pygments_lexer": "ipython3",
   "version": "3.10.9"
  }
 },
 "nbformat": 4,
 "nbformat_minor": 5
}
