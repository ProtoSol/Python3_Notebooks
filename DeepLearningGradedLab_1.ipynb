{
  "nbformat": 4,
  "nbformat_minor": 0,
  "metadata": {
    "colab": {
      "provenance": [],
      "authorship_tag": "ABX9TyOZRLrtUKOSJBKkBaykfASI",
      "include_colab_link": true
    },
    "kernelspec": {
      "name": "python3",
      "display_name": "Python 3"
    },
    "language_info": {
      "name": "python"
    }
  },
  "cells": [
    {
      "cell_type": "markdown",
      "metadata": {
        "id": "view-in-github",
        "colab_type": "text"
      },
      "source": [
        "<a href=\"https://colab.research.google.com/github/ProtoSol/Python3_Notebooks/blob/main/DeepLearningGradedLab_1.ipynb\" target=\"_parent\"><img src=\"https://colab.research.google.com/assets/colab-badge.svg\" alt=\"Open In Colab\"/></a>"
      ]
    },
    {
      "cell_type": "markdown",
      "source": [
        "# Experiment 1"
      ],
      "metadata": {
        "id": "matI4Y4I0iRQ"
      }
    },
    {
      "cell_type": "markdown",
      "source": [
        "Write a program in Python to import a CSV file and perform the following operations-\n",
        "\n",
        "- Find number of rows and columns\n",
        "- Add column names to the data frame\n",
        "- Find summary of the data\n",
        "- Plot the values using plotting function"
      ],
      "metadata": {
        "id": "aHtC1Al90mV_"
      }
    },
    {
      "cell_type": "code",
      "execution_count": 3,
      "metadata": {
        "colab": {
          "base_uri": "https://localhost:8080/",
          "height": 0
        },
        "id": "QXFdTr11ynC_",
        "outputId": "29b59619-210a-41f5-eb8a-15df0a34c548"
      },
      "outputs": [
        {
          "output_type": "stream",
          "name": "stdout",
          "text": [
            "   height  weight favourite_dish\n",
            "0     5.8     101  Chicken Pulao\n",
            "1     6.2      92        Biryani\n",
            "2     5.9      62  Karahi Ghosht\n",
            "3     5.9      95  Chicken Pulao\n",
            "4     5.9      55  Chicken Pulao\n",
            "Number of rows: 87\n",
            "Number of columns: 3\n"
          ]
        }
      ],
      "source": [
        "import pandas as pd\n",
        "import matplotlib.pyplot as plt\n",
        "\n",
        "# Importing\n",
        "file_path = 'your_file.csv'\n",
        "df = pd.read_excel(\"/content/SamepleDataSet.xlsx\")\n",
        "print(df.head())\n",
        "\n",
        "# Shape of the Dataframe\n",
        "num_rows, num_columns = df.shape\n",
        "print(f\"Number of rows: {num_rows}\")\n",
        "print(f\"Number of columns: {num_columns}\")"
      ]
    },
    {
      "cell_type": "code",
      "source": [
        "# Column Renaming\n",
        "df.columns = ['Height', 'Weight', 'Fav_Dish']\n",
        "\n",
        "# Summary\n",
        "data_summary = df.describe()\n",
        "print(\"\\nSummary of the data:\")\n",
        "print(data_summary)\n",
        "\n",
        "# Step 5: Plot the values\n",
        "# Plotting for Column 'Height' and 'Weight'\n",
        "plt.scatter(df['Height'], df['Weight'])\n",
        "plt.xlabel('Height')\n",
        "plt.ylabel('Weight')\n",
        "plt.title('Scatter Plot')\n",
        "plt.show()"
      ],
      "metadata": {
        "colab": {
          "base_uri": "https://localhost:8080/",
          "height": 673
        },
        "id": "vWwA6Ohtzq8-",
        "outputId": "d0f5a3b6-9690-40f4-c3f9-9282540b55e8"
      },
      "execution_count": 5,
      "outputs": [
        {
          "output_type": "stream",
          "name": "stdout",
          "text": [
            "\n",
            "Summary of the data:\n",
            "           Height      Weight\n",
            "count   87.000000   87.000000\n",
            "mean    10.014483   70.459770\n",
            "std     25.730679   16.753899\n",
            "min      5.000000   25.000000\n",
            "25%      5.300000   60.000000\n",
            "50%      5.600000   70.000000\n",
            "75%      5.900000   80.000000\n",
            "max    178.000000  125.000000\n"
          ]
        },
        {
          "output_type": "display_data",
          "data": {
            "text/plain": [
              "<Figure size 640x480 with 1 Axes>"
            ],
            "image/png": "[encoded data removed]"
          },
          "metadata": {}
        }
      ]
    },
    {
      "cell_type": "markdown",
      "source": [
        "# Experiment 2"
      ],
      "metadata": {
        "id": "osHKLtcL0-dp"
      }
    },
    {
      "cell_type": "markdown",
      "source": [
        "Write a program in Python to retrieve Datasets using scikit-learn and demonstrate the following operations-\n",
        "- unique()\n",
        "- mean()\n",
        "- describe()\n",
        "- groupby()\n",
        "- agg()"
      ],
      "metadata": {
        "id": "iL1TATD31A5d"
      }
    },
    {
      "cell_type": "code",
      "source": [
        "import pandas as pd\n",
        "import seaborn as sns\n",
        "\n",
        "# Load the Dataset\n",
        "df_tips = sns.load_dataset('tips')\n",
        "\n",
        "# Printing the Dataset\n",
        "print(df_tips.head())\n",
        "\n",
        "# Unique\n",
        "unique_days = df_tips['day'].unique()\n",
        "print(\"\\nUnique values in 'day' column:\", unique_days)\n",
        "\n",
        "# Mean\n",
        "column_means_tips = df_tips.mean()\n",
        "print(\"\\nMean values for each column:\")\n",
        "print(column_means_tips)\n",
        "\n",
        "# Describe\n",
        "data_summary_tips = df_tips.describe()\n",
        "print(\"\\nSummary of the tips dataset:\")\n",
        "print(data_summary_tips)\n",
        "\n",
        "# Groupby and Aggergate\n",
        "grouped_data_tips = df_tips.groupby('day').agg({'total_bill': 'mean', 'tip': 'max'})\n",
        "print(\"\\nGrouped data with mean total bill and max tip, grouped by 'day':\")\n",
        "print(grouped_data_tips)\n"
      ],
      "metadata": {
        "colab": {
          "base_uri": "https://localhost:8080/",
          "height": 0
        },
        "id": "uThirDPn1HwA",
        "outputId": "f0e4fe3e-e2b4-4316-dfca-7f88bbcb3b4c"
      },
      "execution_count": 9,
      "outputs": [
        {
          "output_type": "stream",
          "name": "stdout",
          "text": [
            "   total_bill   tip     sex smoker  day    time  size\n",
            "0       16.99  1.01  Female     No  Sun  Dinner     2\n",
            "1       10.34  1.66    Male     No  Sun  Dinner     3\n",
            "2       21.01  3.50    Male     No  Sun  Dinner     3\n",
            "3       23.68  3.31    Male     No  Sun  Dinner     2\n",
            "4       24.59  3.61  Female     No  Sun  Dinner     4\n",
            "\n",
            "Unique values in 'day' column: ['Sun', 'Sat', 'Thur', 'Fri']\n",
            "Categories (4, object): ['Thur', 'Fri', 'Sat', 'Sun']\n",
            "\n",
            "Mean values for each column:\n",
            "total_bill    19.785943\n",
            "tip            2.998279\n",
            "size           2.569672\n",
            "dtype: float64\n",
            "\n",
            "Summary of the tips dataset:\n",
            "       total_bill         tip        size\n",
            "count  244.000000  244.000000  244.000000\n",
            "mean    19.785943    2.998279    2.569672\n",
            "std      8.902412    1.383638    0.951100\n",
            "min      3.070000    1.000000    1.000000\n",
            "25%     13.347500    2.000000    2.000000\n",
            "50%     17.795000    2.900000    2.000000\n",
            "75%     24.127500    3.562500    3.000000\n",
            "max     50.810000   10.000000    6.000000\n",
            "\n",
            "Grouped data with mean total bill and max tip, grouped by 'day':\n",
            "      total_bill    tip\n",
            "day                    \n",
            "Thur   17.682742   6.70\n",
            "Fri    17.151579   4.73\n",
            "Sat    20.441379  10.00\n",
            "Sun    21.410000   6.50\n"
          ]
        },
        {
          "output_type": "stream",
          "name": "stderr",
          "text": [
            "<ipython-input-9-f77ea05b898d>:15: FutureWarning: The default value of numeric_only in DataFrame.mean is deprecated. In a future version, it will default to False. In addition, specifying 'numeric_only=None' is deprecated. Select only valid columns or specify the value of numeric_only to silence this warning.\n",
            "  column_means_tips = df_tips.mean()\n"
          ]
        }
      ]
    },
    {
      "cell_type": "code",
      "source": [],
      "metadata": {
        "id": "QQCGDQPa2vLX"
      },
      "execution_count": null,
      "outputs": []
    }
  ]
}