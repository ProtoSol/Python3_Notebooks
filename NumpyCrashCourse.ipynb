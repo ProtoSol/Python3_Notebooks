{
 "cells": [
  {
   "cell_type": "markdown",
   "id": "2514d41a",
   "metadata": {},
   "source": [
    "# Numpy Crash Course Notebook "
   ]
  },
  {
   "cell_type": "markdown",
   "id": "52162ea2",
   "metadata": {},
   "source": [
    "##  Numpy Basic Operations"
   ]
  },
  {
   "cell_type": "code",
   "execution_count": 2,
   "id": "6b833dc6",
   "metadata": {},
   "outputs": [],
   "source": [
    "import numpy as np"
   ]
  },
  {
   "cell_type": "markdown",
   "id": "592795da",
   "metadata": {},
   "source": [
    "Loading the Library is the first step for any operation."
   ]
  },
  {
   "cell_type": "code",
   "execution_count": 2,
   "id": "9d3c6492",
   "metadata": {},
   "outputs": [
    {
     "name": "stdout",
     "output_type": "stream",
     "text": [
      "1.24.3\n"
     ]
    }
   ],
   "source": [
    "## Checking the Version of the numpy\n",
    "print(np.__version__)"
   ]
  },
  {
   "cell_type": "markdown",
   "id": "50e1687a",
   "metadata": {},
   "source": [
    "Creating Array now"
   ]
  },
  {
   "cell_type": "code",
   "execution_count": 3,
   "id": "16a21862",
   "metadata": {},
   "outputs": [
    {
     "name": "stdout",
     "output_type": "stream",
     "text": [
      "[1 2 3]\n"
     ]
    }
   ],
   "source": [
    "a = np.array([1,2,3])\n",
    "print(a)"
   ]
  },
  {
   "cell_type": "code",
   "execution_count": 7,
   "id": "25ac2e29",
   "metadata": {},
   "outputs": [
    {
     "name": "stdout",
     "output_type": "stream",
     "text": [
      "(3,)\n"
     ]
    }
   ],
   "source": [
    "print(a.shape)"
   ]
  },
  {
   "cell_type": "code",
   "execution_count": 9,
   "id": "fb21578e",
   "metadata": {
    "scrolled": true
   },
   "outputs": [
    {
     "data": {
      "text/plain": [
       "dtype('int32')"
      ]
     },
     "execution_count": 9,
     "metadata": {},
     "output_type": "execute_result"
    }
   ],
   "source": [
    "a.dtype"
   ]
  },
  {
   "cell_type": "code",
   "execution_count": 10,
   "id": "76f8c844",
   "metadata": {},
   "outputs": [
    {
     "data": {
      "text/plain": [
       "1"
      ]
     },
     "execution_count": 10,
     "metadata": {},
     "output_type": "execute_result"
    }
   ],
   "source": [
    "a.ndim"
   ]
  },
  {
   "cell_type": "code",
   "execution_count": 12,
   "id": "ce69d642",
   "metadata": {},
   "outputs": [
    {
     "data": {
      "text/plain": [
       "3"
      ]
     },
     "execution_count": 12,
     "metadata": {},
     "output_type": "execute_result"
    }
   ],
   "source": [
    "a.size"
   ]
  },
  {
   "cell_type": "code",
   "execution_count": 13,
   "id": "894c9515",
   "metadata": {},
   "outputs": [
    {
     "data": {
      "text/plain": [
       "4"
      ]
     },
     "execution_count": 13,
     "metadata": {},
     "output_type": "execute_result"
    }
   ],
   "source": [
    "a.itemsize"
   ]
  },
  {
   "cell_type": "code",
   "execution_count": 16,
   "id": "2347ff67",
   "metadata": {},
   "outputs": [
    {
     "name": "stdout",
     "output_type": "stream",
     "text": [
      "10\n",
      "[10  2  3]\n",
      "[20  0  6]\n"
     ]
    }
   ],
   "source": [
    "print(a[0])\n",
    "a[0] = 10\n",
    "print(a)\n",
    "\n",
    "b = a * np.array([2,0,2])\n",
    "print(b)"
   ]
  },
  {
   "cell_type": "markdown",
   "id": "a1f4358a",
   "metadata": {},
   "source": [
    "## Arrays of Numpy vs List of Python "
   ]
  },
  {
   "cell_type": "code",
   "execution_count": 22,
   "id": "0788638f",
   "metadata": {},
   "outputs": [
    {
     "name": "stdout",
     "output_type": "stream",
     "text": [
      "[1, 2, 3, 4]\n",
      "[1, 2, 3, 4]\n",
      "[5 6 7]\n"
     ]
    }
   ],
   "source": [
    "l = [1,2,3]\n",
    "l.append(4)\n",
    "print(l)\n",
    "\n",
    "# another way of adding items into the list is as follows.\n",
    "l = [1,2,3]\n",
    "l = l + [4]\n",
    "\n",
    "a = np.array([1,2,3])\n",
    "a = a + np.array([4])\n",
    "\n",
    "print(l)\n",
    "print(a)"
   ]
  },
  {
   "cell_type": "code",
   "execution_count": 28,
   "id": "cd47d6bc",
   "metadata": {},
   "outputs": [
    {
     "name": "stdout",
     "output_type": "stream",
     "text": [
      "[1, 2, 3, 1, 2, 3]\n",
      "[2 4 6]\n",
      "[1.41421356 2.         2.44948974]\n",
      "[0.34657359 0.69314718 0.89587973]\n"
     ]
    }
   ],
   "source": [
    "l = [1,2,3]\n",
    "a = np.array([1,2,3])\n",
    "\n",
    "l = l * 2\n",
    "a = a * 2\n",
    "print(l)\n",
    "print(a)\n",
    "\n",
    "a = np.sqrt(a)\n",
    "print(a)\n",
    "\n",
    "a = np.log(a)\n",
    "print(a)"
   ]
  },
  {
   "cell_type": "code",
   "execution_count": 32,
   "id": "ba722855",
   "metadata": {},
   "outputs": [
    {
     "name": "stdout",
     "output_type": "stream",
     "text": [
      "32\n",
      "32\n",
      "32\n",
      "32\n"
     ]
    }
   ],
   "source": [
    "l1 = [1,2,3]\n",
    "l2 = [4,5,6]\n",
    "a1 = np.array(l1)\n",
    "a2 = np.array(l2)\n",
    "\n",
    "# Dot protduct\n",
    "\n",
    "dot = 0\n",
    "for i in range(len(l1)):\n",
    "    dot += l1[i] * l2[i]\n",
    "print(dot)\n",
    "# The above method is for vanilla python\n",
    "\n",
    "dot = np.dot(a1,a2)\n",
    "print(dot)\n",
    "# This is the dot product proccedure in the Numpy library\n",
    "# but there is another way to get the dot product.\n",
    "\n",
    "sum1 = a1 * a2\n",
    "dot = np.sum(sum1)\n",
    "print(dot)\n",
    "\n",
    "dot = a1 @ a2\n",
    "print(dot)"
   ]
  },
  {
   "cell_type": "code",
   "execution_count": 35,
   "id": "29b08de0",
   "metadata": {},
   "outputs": [
    {
     "name": "stdout",
     "output_type": "stream",
     "text": [
      "list calculation 0.3055826000008892\n",
      "np.dot 0.0025546999995640363\n",
      "ratio 119.61584532549317\n"
     ]
    }
   ],
   "source": [
    "from timeit import default_timer as timer\n",
    "# Library to calculate the time of the process\n",
    "\n",
    "a = np.random.random(1000)\n",
    "b = np.random.random(1000)\n",
    "\n",
    "A = list(a)\n",
    "B = list(b)\n",
    "\n",
    "T = 1000\n",
    "\n",
    "def dot1():\n",
    "    dot = 0\n",
    "    for i in range(len(A)):\n",
    "        dot += A[i] * B[i]\n",
    "    return dot\n",
    "def dot2():\n",
    "    return np.dot(a,b)\n",
    "\n",
    "start = timer()\n",
    "for i in range(T):\n",
    "    dot1()\n",
    "end = timer()\n",
    "t1 = end - start\n",
    "\n",
    "start = timer()\n",
    "for i in range(T):\n",
    "    dot2()\n",
    "end = timer()\n",
    "t2 = end - start\n",
    "\n",
    "print('list calculation', t1)\n",
    "print('np.dot', t2)\n",
    "print('ratio', t1/t2)"
   ]
  },
  {
   "cell_type": "markdown",
   "id": "71d9360d",
   "metadata": {},
   "source": [
    "### This shows how fast the numpy calculates the dot product as compared to the vanilla python. "
   ]
  },
  {
   "cell_type": "markdown",
   "id": "911e7b7e",
   "metadata": {},
   "source": [
    "## Multi Dimensional Array\n"
   ]
  },
  {
   "cell_type": "code",
   "execution_count": 45,
   "id": "ceb81683",
   "metadata": {
    "scrolled": true
   },
   "outputs": [
    {
     "name": "stdout",
     "output_type": "stream",
     "text": [
      "[[1 2 5]\n",
      " [3 4 6]]\n",
      "\n",
      "\n",
      "(2, 3)\n",
      "[1 2 5]\n",
      "2\n",
      "2\n",
      "[1 3]\n"
     ]
    }
   ],
   "source": [
    "a = np.array([[1,2,5], [3,4,6]])\n",
    "print(a)\n",
    "print('\\n')\n",
    "print(a.shape)\n",
    "\n",
    "# Indexing Functions can be used with the similar manner.\n",
    "print(a[0])\n",
    "print(a[0][1])\n",
    "print(a[0,1])\n",
    "\n",
    "# Slicing can be performed on the Indexing problems too\n",
    "print(a[:,0])\n",
    "# This prints out the first column of the 2-D array"
   ]
  },
  {
   "cell_type": "code",
   "execution_count": 50,
   "id": "79f64bed",
   "metadata": {},
   "outputs": [
    {
     "name": "stdout",
     "output_type": "stream",
     "text": [
      "[[1 3]\n",
      " [2 4]]\n",
      "[[-2.   1. ]\n",
      " [ 1.5 -0.5]]\n",
      "-2.0000000000000004\n",
      "[1 4]\n"
     ]
    }
   ],
   "source": [
    "# Transposing of the Matrix\n",
    "\n",
    "print(a.T)\n",
    "\n",
    "# Inverse of the Arrray\n",
    "a = np.array([[1,2], [3,4]])\n",
    "print(np.linalg.inv(a))\n",
    "\n",
    "# Determinance of the Matrix\n",
    "print(np.linalg.det(a))\n",
    "\n",
    "# To call only the Diagonal elements of the matrix\n",
    "print(np.diag(a))"
   ]
  },
  {
   "cell_type": "markdown",
   "id": "09576b83",
   "metadata": {},
   "source": [
    "## Slicing, Indexing, Boolean Indexing"
   ]
  },
  {
   "cell_type": "code",
   "execution_count": 56,
   "id": "acd1e172",
   "metadata": {},
   "outputs": [
    {
     "name": "stdout",
     "output_type": "stream",
     "text": [
      "[[1 2 3 4]\n",
      " [5 6 7 8]]\n",
      "\n",
      "\n",
      "2\n",
      "\n",
      "\n",
      "[1 2 3 4]\n",
      "\n",
      "\n",
      "[5]\n",
      "\n",
      "\n"
     ]
    }
   ],
   "source": [
    "a = np.array([[1,2,3,4], [5,6,7,8]])\n",
    "print(a)\n",
    "print('\\n')\n",
    "\n",
    "b = a[0,1]\n",
    "print(b)\n",
    "print('\\n')\n",
    "\n",
    "b = a[0, :]\n",
    "print(b)\n",
    "print('\\n')\n",
    "\n",
    "b = a[1:3 , 0]\n",
    "print(b)\n",
    "print('\\n')"
   ]
  },
  {
   "cell_type": "code",
   "execution_count": 58,
   "id": "7f808e36",
   "metadata": {
    "scrolled": true
   },
   "outputs": [
    {
     "name": "stdout",
     "output_type": "stream",
     "text": [
      "[[1 2]\n",
      " [3 4]\n",
      " [5 6]]\n",
      "\n",
      "\n",
      "[[False False]\n",
      " [ True  True]\n",
      " [ True  True]]\n",
      "\n",
      "\n",
      "[3 4 5 6]\n"
     ]
    }
   ],
   "source": [
    "a = np.array([[1,2], [3,4], [5,6]])\n",
    "print (a)\n",
    "\n",
    "print('\\n')\n",
    "bool_idx = a > 2\n",
    "print(bool_idx)\n",
    "\n",
    "# This is used for filtering out the required elements out of the matrix into a another list.\n",
    "print('\\n')\n",
    "# print(a[bool_idx])\n",
    "# This can also be written as\n",
    "print(a[a > 2])"
   ]
  },
  {
   "cell_type": "code",
   "execution_count": 63,
   "id": "4b9194b2",
   "metadata": {},
   "outputs": [
    {
     "name": "stdout",
     "output_type": "stream",
     "text": [
      "[10 19 30 41 50 61]\n",
      "\n",
      "\n",
      "[10 19 30 41 50 61]\n",
      "\n",
      "\n",
      "[19 41 61]\n"
     ]
    }
   ],
   "source": [
    "# We use Where function to put a default value into the matrix, \n",
    "# where the condition comes oout to be false\n",
    "\n",
    "b = np.where(a > 2, a, -1)\n",
    "print(b)\n",
    "print('\\n')\n",
    "\n",
    "# Fancy Indexing\n",
    "a = np.array([10,19,30,41,50,61])\n",
    "print(a)\n",
    "print('\\n')\n",
    "b = [1,3,5]\n",
    "print(a[b])"
   ]
  },
  {
   "cell_type": "markdown",
   "id": "fc5abe92",
   "metadata": {},
   "source": [
    "## Reshaping "
   ]
  },
  {
   "cell_type": "code",
   "execution_count": 66,
   "id": "bc5b9bd1",
   "metadata": {},
   "outputs": [
    {
     "name": "stdout",
     "output_type": "stream",
     "text": [
      "[1 2 3 4 5 6]\n",
      "(6,)\n",
      "[[1 2 3]\n",
      " [4 5 6]]\n",
      "\n",
      "\n",
      "[[1 2]\n",
      " [3 4]\n",
      " [5 6]]\n"
     ]
    }
   ],
   "source": [
    "import numpy as np\n",
    "\n",
    "a = np.arange(1,7)\n",
    "print(a)\n",
    "print(a.shape)\n",
    "\n",
    "# We will now use the reshape function.\n",
    "\n",
    "b = a.reshape((2,3))\n",
    "print(b)\n",
    "print('\\n')\n",
    "b = a.reshape((3,2))\n",
    "print(b)"
   ]
  },
  {
   "cell_type": "markdown",
   "id": "ab985dcb",
   "metadata": {},
   "source": [
    "### We can also implicitly change the dimension of the array by using numpy's new axis function as used below -"
   ]
  },
  {
   "cell_type": "code",
   "execution_count": 73,
   "id": "7da63369",
   "metadata": {
    "scrolled": true
   },
   "outputs": [
    {
     "name": "stdout",
     "output_type": "stream",
     "text": [
      "[[1 2 3 4 5 6]]\n",
      "Shape  (1, 6)\n",
      "\n",
      "\n",
      "[[1]\n",
      " [2]\n",
      " [3]\n",
      " [4]\n",
      " [5]\n",
      " [6]]\n",
      "Shape  (6, 1)\n"
     ]
    }
   ],
   "source": [
    "b = a[np.newaxis, :]\n",
    "print(b)\n",
    "print(\"Shape \",b.shape)\n",
    "\n",
    "# This can be done other way around.\n",
    "print('\\n')\n",
    "\n",
    "b = a[:, np.newaxis]\n",
    "print(b)\n",
    "print(\"Shape \",b.shape)"
   ]
  },
  {
   "cell_type": "markdown",
   "id": "db8f23fe",
   "metadata": {},
   "source": [
    "## Concatination"
   ]
  },
  {
   "cell_type": "code",
   "execution_count": 5,
   "id": "70b2a53d",
   "metadata": {},
   "outputs": [
    {
     "name": "stdout",
     "output_type": "stream",
     "text": [
      "[[1 2]\n",
      " [3 4]]\n",
      "\n",
      "\n",
      "[[1 2]\n",
      " [3 4]\n",
      " [5 6]]\n",
      "\n",
      "\n",
      "[[1 2 5]\n",
      " [3 4 6]]\n",
      "\n",
      "\n",
      "[1 2 3 4 5 6]\n",
      "\n"
     ]
    }
   ],
   "source": [
    "a = np.array([[1,2], [3,4]])\n",
    "print(a)\n",
    "print(\"\\n\")\n",
    "\n",
    "b = np.array([[5,6]])\n",
    "\n",
    "# Use of concatination\n",
    "\n",
    "c = np.concatenate((a,b), axis = 0)\n",
    "print(c)\n",
    "print(\"\\n\")\n",
    "\n",
    "c = np.concatenate((a,b.T), axis = 1)\n",
    "print(c)\n",
    "print(\"\\n\")\n",
    "# This wont work as the array list b is required to be the same size of row, thus we use the Transpose\n",
    "# function.\n",
    "\n",
    "c = np.concatenate((a,b), axis = None)\n",
    "print(c)\n",
    "print()\n",
    "# This prints out a plain array wihtout any matrix"
   ]
  },
  {
   "cell_type": "code",
   "execution_count": 8,
   "id": "747ab32c",
   "metadata": {},
   "outputs": [
    {
     "name": "stdout",
     "output_type": "stream",
     "text": [
      "[1 2 3 4 5 6 7 8] \n",
      "\n",
      "[[1 2 3 4]\n",
      " [5 6 7 8]] \n",
      "\n"
     ]
    }
   ],
   "source": [
    "a = np.array([1,2,3,4])\n",
    "b = np.array([5,6,7,8])\n",
    "\n",
    "#hstack: stacking horizontally\n",
    "\n",
    "c = np.hstack([a,b])\n",
    "print (c,\"\\n\")\n",
    "\n",
    "#vstack: stacking vertically\n",
    "\n",
    "c = np.vstack([a,b])\n",
    "print (c,\"\\n\")"
   ]
  },
  {
   "cell_type": "markdown",
   "id": "eb03f94f",
   "metadata": {},
   "source": [
    "## Broadcasting on arrays and vecctors"
   ]
  },
  {
   "cell_type": "code",
   "execution_count": 13,
   "id": "c49a60e8",
   "metadata": {
    "scrolled": true
   },
   "outputs": [
    {
     "name": "stdout",
     "output_type": "stream",
     "text": [
      "[[2 2 4]\n",
      " [5 5 7]\n",
      " [2 2 4]\n",
      " [5 5 7]]\n"
     ]
    }
   ],
   "source": [
    "x = np.array([[1,2,3], [4,5,6], [1,2,3], [4,5,6]])\n",
    "a= np.array([1,0,1])\n",
    "y = x + a\n",
    "print(y)"
   ]
  },
  {
   "cell_type": "markdown",
   "id": "8c65e11e",
   "metadata": {},
   "source": [
    "## Functions and Axis"
   ]
  },
  {
   "cell_type": "code",
   "execution_count": 21,
   "id": "ca06e15d",
   "metadata": {
    "scrolled": true
   },
   "outputs": [
    {
     "name": "stdout",
     "output_type": "stream",
     "text": [
      "[[ 7  8  9 10 11 12 13]\n",
      " [17 18 19 20 21 22 23]]\n",
      "\n",
      "210\n",
      "\n",
      "210\n",
      "\n",
      "[ 70 140]\n",
      "\n",
      "[24 26 28 30 32 34 36]\n"
     ]
    }
   ],
   "source": [
    "a = np.array([[7,8,9,10,11,12,13], [17,18,19,20,21,22,23]])\n",
    "print(a)\n",
    "print()\n",
    "print(a.sum())\n",
    "print()\n",
    "print(a.sum(axis = None))\n",
    "print()\n",
    "print(a.sum(axis = 1))\n",
    "print()\n",
    "print(a.sum(axis = 0))"
   ]
  },
  {
   "cell_type": "code",
   "execution_count": 23,
   "id": "d993a08f",
   "metadata": {},
   "outputs": [
    {
     "name": "stdout",
     "output_type": "stream",
     "text": [
      "15.0\n",
      "\n",
      "[10. 20.]\n",
      "\n",
      "[12. 13. 14. 15. 16. 17. 18.]\n",
      "\n",
      "15.0\n",
      "\n"
     ]
    }
   ],
   "source": [
    "print(a.mean())\n",
    "print()\n",
    "print(a.mean(axis = 1))\n",
    "print()\n",
    "print(a.mean(axis = 0))\n",
    "print()\n",
    "print(a.mean(axis = None))\n",
    "print()"
   ]
  },
  {
   "cell_type": "code",
   "execution_count": 24,
   "id": "baac39ae",
   "metadata": {},
   "outputs": [
    {
     "name": "stdout",
     "output_type": "stream",
     "text": [
      "29.0\n",
      "\n",
      "[25. 25. 25. 25. 25. 25. 25.]\n",
      "\n",
      "[4. 4.]\n",
      "\n",
      "29.0\n",
      "\n"
     ]
    }
   ],
   "source": [
    "print(a.var())\n",
    "print()\n",
    "print(a.var(axis = 0))\n",
    "print()\n",
    "print(a.var(axis = 1))\n",
    "print()\n",
    "print(a.var(axis = None))\n",
    "print()"
   ]
  },
  {
   "cell_type": "code",
   "execution_count": 25,
   "id": "2e98f49c",
   "metadata": {
    "scrolled": true
   },
   "outputs": [
    {
     "name": "stdout",
     "output_type": "stream",
     "text": [
      "29.0\n",
      "\n",
      "[5. 5. 5. 5. 5. 5. 5.]\n",
      "\n",
      "[2. 2.]\n",
      "\n",
      "5.385164807134504\n",
      "\n"
     ]
    }
   ],
   "source": [
    "print(a.var())\n",
    "print()\n",
    "print(a.std(axis = 0))\n",
    "print()\n",
    "print(a.std(axis = 1))\n",
    "print()\n",
    "print(a.std(axis = None))\n",
    "print()"
   ]
  },
  {
   "cell_type": "markdown",
   "id": "49a1c1d5",
   "metadata": {},
   "source": [
    "## Datatypes"
   ]
  },
  {
   "cell_type": "code",
   "execution_count": 28,
   "id": "d890aa14",
   "metadata": {},
   "outputs": [
    {
     "name": "stdout",
     "output_type": "stream",
     "text": [
      "[1. 2.]\n",
      "float64\n",
      "[1 2]\n",
      "int64\n"
     ]
    }
   ],
   "source": [
    "x = np.array([1.0,2.0])\n",
    "print(x)\n",
    "print(x.dtype)\n",
    "x = np.array([1.0,2.0], dtype = np.int64)\n",
    "print(x)\n",
    "print(x.dtype)"
   ]
  },
  {
   "cell_type": "markdown",
   "id": "3d4f7d8c",
   "metadata": {},
   "source": [
    "## Copying"
   ]
  },
  {
   "cell_type": "code",
   "execution_count": 31,
   "id": "e794cba3",
   "metadata": {},
   "outputs": [
    {
     "name": "stdout",
     "output_type": "stream",
     "text": [
      "[1 2 3]\n",
      "[42  2  3]\n",
      "Original array copied changes too :  [42  2  3]\n",
      "\n",
      "[1 2 3]\n",
      "[42  2  3]\n",
      "Original array copied dosnt changes :  [1 2 3]\n"
     ]
    }
   ],
   "source": [
    "a = np.array([1,2,3])\n",
    "b = a\n",
    "print(b)\n",
    "b[0] = 42\n",
    "print(b)\n",
    "print(\"Original array copied changes too : \",a)\n",
    "print()\n",
    "a = np.array([1,2,3])\n",
    "b = a.copy()\n",
    "print(b)\n",
    "b[0] = 42\n",
    "print(b)\n",
    "print(\"Original array copied dosnt changes : \",a)"
   ]
  },
  {
   "cell_type": "markdown",
   "id": "ee4cc40a",
   "metadata": {},
   "source": [
    "## Generation of arrays "
   ]
  },
  {
   "cell_type": "code",
   "execution_count": 38,
   "id": "5f3c4dc3",
   "metadata": {},
   "outputs": [
    {
     "name": "stdout",
     "output_type": "stream",
     "text": [
      "[[0. 0. 0.]\n",
      " [0. 0. 0.]]\n",
      "\n",
      "[[1. 1. 1.]\n",
      " [1. 1. 1.]]\n",
      "\n",
      "[[5. 5. 5.]\n",
      " [5. 5. 5.]]\n",
      "\n",
      "[[1. 0. 0.]\n",
      " [0. 1. 0.]\n",
      " [0. 0. 1.]]\n",
      "\n",
      "[ 0  1  2  3  4  5  6  7  8  9 10 11 12 13 14 15 16 17 18 19 20 21 22 23]\n",
      "\n",
      "[ 0.   2.5  5.   7.5 10. ]\n"
     ]
    }
   ],
   "source": [
    "a = np.zeros((2,3))\n",
    "print(a)\n",
    "print()\n",
    "\n",
    "a = np.ones((2,3))\n",
    "print(a)\n",
    "print()\n",
    "\n",
    "a = np.full((2,3), 5.0)\n",
    "print(a)\n",
    "print()\n",
    "\n",
    "a = np.eye(3)\n",
    "print(a)\n",
    "print()\n",
    "\n",
    "a = np.arange(24)\n",
    "print(a)\n",
    "print()\n",
    "\n",
    "a = np.linspace(0,10,5)\n",
    "print(a)"
   ]
  },
  {
   "cell_type": "markdown",
   "id": "9a73e62a",
   "metadata": {},
   "source": [
    "## Random Numbers"
   ]
  },
  {
   "cell_type": "code",
   "execution_count": 44,
   "id": "4fa32c2c",
   "metadata": {
    "scrolled": true
   },
   "outputs": [
    {
     "name": "stdout",
     "output_type": "stream",
     "text": [
      "[[0.15001838 0.8005963 ]\n",
      " [0.67121572 0.55477753]\n",
      " [0.38721723 0.86344609]]\n",
      "\n",
      "0.09952547068620994 1.0220868357498707\n",
      "\n",
      "[[6 6 6]\n",
      " [3 4 6]\n",
      " [7 6 5]]\n",
      "\n",
      "[0 2 0 2 1 3 0 2 3 4]\n",
      "\n",
      "[-5 -8 -5 -5 -5 -6 -6 -7 -5 -5]\n",
      "\n"
     ]
    }
   ],
   "source": [
    "a = np.random.random((3,2)) # size need to be given in another bracket. It is 0 - 1 distribution.\n",
    "print(a)\n",
    "print()\n",
    "\n",
    "a = np.random.randn(100) # takes the size normally. It is normal/Gaussian distribution.\n",
    "print(a.mean(), a.var())\n",
    "print()\n",
    "\n",
    "a = np.random.randint(3, 10, size = (3,3)) # it is the basic distribution selects number from the given range\n",
    "print(a)\n",
    "print()\n",
    " \n",
    "a = np.random.choice(5, size = 10) # same as the above and chooses number between 0 and given number with size argument.\n",
    "print(a)\n",
    "print()\n",
    "\n",
    "a = np.random.choice([-8,-7,-6,-5], size = 10) # this works on list too and chooses elements from the list.\n",
    "print(a)\n",
    "print()"
   ]
  },
  {
   "cell_type": "markdown",
   "id": "fcd58a38",
   "metadata": {},
   "source": [
    "## Linear Algebra (Elgenvalues / Solving Linear Systems) "
   ]
  },
  {
   "cell_type": "code",
   "execution_count": 52,
   "id": "83899889",
   "metadata": {},
   "outputs": [
    {
     "name": "stdout",
     "output_type": "stream",
     "text": [
      "[-0.37228132  5.37228132]\n",
      "\n",
      "[[-0.82456484 -0.41597356]\n",
      " [ 0.56576746 -0.90937671]]\n",
      "\n",
      "[ 0.30697009 -0.21062466]\n",
      "[ 0.30697009 -0.21062466]\n",
      "\n",
      "[ True False] \n",
      "\n",
      "True\n"
     ]
    }
   ],
   "source": [
    "a = np.array([[1,2], [3,4]])\n",
    "eigenvalues, eigenvectors = np.linalg.eig(a)\n",
    "\n",
    "print(eigenvalues)\n",
    "print()\n",
    "print(eigenvectors) # column vector\n",
    "print()\n",
    "\n",
    "# Equation: e_vec * e_val = A * e_vec\n",
    "\n",
    "b = eigenvectors[:,0]*eigenvalues[0]\n",
    "print(b)\n",
    "c = a @ eigenvectors[:,0]\n",
    "print(c)\n",
    "print()\n",
    "\n",
    "# Hence we can see that values of b and c is equal but if we try to compare it it gives out true and\n",
    "# false as the answer. Thus, we need too compare them using deifferent method which is np.allclose(var1, var2)\n",
    "\n",
    "print(b == c, '\\n')\n",
    "print(np.allclose(b,c))"
   ]
  },
  {
   "cell_type": "markdown",
   "id": "f81168f6",
   "metadata": {},
   "source": [
    "### Now we will use this to solve a real world question.\n",
    "\n",
    "#### The admission fee at a small fair is 1.50 for children and 4.00 for adults. On a certain day, 2200 people enter thefair and 5050 is collected. How many children and adults attended on that day?\n",
    "\n",
    "#### As we can see there are 2 Unkown variables and 2 equations provided to use. This can be written in the following representation."
   ]
  },
  {
   "attachments": {
    "image.png": {
     "image/png": "[encoded data removed]"
    }
   },
   "cell_type": "markdown",
   "id": "1d1106e3",
   "metadata": {},
   "source": [
    "![image.png](attachment:image.png)"
   ]
  },
  {
   "cell_type": "code",
   "execution_count": 53,
   "id": "67682db5",
   "metadata": {},
   "outputs": [
    {
     "name": "stdout",
     "output_type": "stream",
     "text": [
      "[1500.  700.]\n"
     ]
    }
   ],
   "source": [
    "A = np.array([[1,1], [1.5,4]])\n",
    "b = np.array([2200,5050])\n",
    "\n",
    "x = np.linalg.inv(A).dot(b)\n",
    "print(x)"
   ]
  },
  {
   "cell_type": "markdown",
   "id": "c73a896b",
   "metadata": {},
   "source": [
    "### This way is not perfect as it is slow and sometimes it gives out Numerical issues. Thus this is solved via np.linalg.solve(A,b)"
   ]
  },
  {
   "cell_type": "code",
   "execution_count": 54,
   "id": "b6cca1ed",
   "metadata": {},
   "outputs": [
    {
     "name": "stdout",
     "output_type": "stream",
     "text": [
      "[1500.  700.]\n"
     ]
    }
   ],
   "source": [
    "x = np.linalg.solve(A,b)\n",
    "print(x)"
   ]
  }
 ],
 "metadata": {
  "kernelspec": {
   "display_name": "Python 3 (ipykernel)",
   "language": "python",
   "name": "python3"
  },
  "language_info": {
   "codemirror_mode": {
    "name": "ipython",
    "version": 3
   },
   "file_extension": ".py",
   "mimetype": "text/x-python",
   "name": "python",
   "nbconvert_exporter": "python",
   "pygments_lexer": "ipython3",
   "version": "3.10.9"
  }
 },
 "nbformat": 4,
 "nbformat_minor": 5
}
